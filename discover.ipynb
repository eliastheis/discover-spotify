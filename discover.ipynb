{
 "cells": [
  {
   "attachments": {},
   "cell_type": "markdown",
   "metadata": {},
   "source": [
    "# Discover Spotify\n",
    "To use this file, you first need to manually execute the file 'get_token.py' and follow the instructions in the console.\n",
    "\n",
    "The resulting token was saved in 'token.txt' and is valid for one hour.\n",
    "\n",
    "If a valid token has been stored, the following code can be executed."
   ]
  },
  {
   "attachments": {},
   "cell_type": "markdown",
   "metadata": {},
   "source": [
    "# Authorize"
   ]
  },
  {
   "cell_type": "code",
   "execution_count": null,
   "metadata": {},
   "outputs": [],
   "source": [
    "import spotipy\n",
    "import json\n",
    "import random\n",
    "\n",
    "with open('token.txt', 'r') as f:\n",
    "    token = f.read()\n",
    "\n",
    "sp = spotipy.Spotify(auth=token)"
   ]
  },
  {
   "cell_type": "code",
   "execution_count": null,
   "metadata": {},
   "outputs": [],
   "source": [
    "# Get the current user\n",
    "# (This is needed to create a playlist later on)\n",
    "\n",
    "USER = sp.current_user()\n",
    "USER_ID = USER['id']"
   ]
  },
  {
   "attachments": {},
   "cell_type": "markdown",
   "metadata": {},
   "source": [
    "# Discover"
   ]
  },
  {
   "cell_type": "code",
   "execution_count": null,
   "metadata": {},
   "outputs": [],
   "source": [
    "def print_top_items(top_items, item_type):\n",
    "    print(f'\\n\\nYour top {item_type} are:')\n",
    "    for i, item in enumerate(top_items):\n",
    "        item_name = item['name']\n",
    "        print(f'{i+1}. {item_name}')"
   ]
  },
  {
   "cell_type": "code",
   "execution_count": null,
   "metadata": {},
   "outputs": [],
   "source": [
    "def save_dict_to_json(d, filename):\n",
    "    with open(filename, 'w', encoding='utf-8') as f:\n",
    "        json.dump(d, f, ensure_ascii=False, indent=4)"
   ]
  },
  {
   "attachments": {},
   "cell_type": "markdown",
   "metadata": {},
   "source": [
    "### Top artists and tracks"
   ]
  },
  {
   "cell_type": "code",
   "execution_count": null,
   "metadata": {},
   "outputs": [],
   "source": [
    "# Get the user's top artists\n",
    "top_artists = sp.current_user_top_artists(limit=50, time_range='medium_term')\n",
    "\n",
    "# Get the user's top tracks\n",
    "top_tracks = sp.current_user_top_tracks(limit=50, time_range='medium_term')\n",
    "\n",
    "# Get the user's top genres\n",
    "top_genres = top_artists['items'][0]['genres']"
   ]
  },
  {
   "cell_type": "code",
   "execution_count": null,
   "metadata": {},
   "outputs": [],
   "source": [
    "print_top_items(top_artists['items'][0:10], 'artists')\n",
    "print_top_items(top_tracks['items'][0:10], 'tracks')\n",
    "\n",
    "save_dict_to_json(top_artists, 'top_artists.json')\n",
    "save_dict_to_json(top_tracks, 'top_tracks.json')"
   ]
  },
  {
   "attachments": {},
   "cell_type": "markdown",
   "metadata": {},
   "source": [
    "### Recommendations"
   ]
  },
  {
   "attachments": {},
   "cell_type": "markdown",
   "metadata": {},
   "source": [
    "Get recommendations based on the user's top artists, genres, and tracks"
   ]
  },
  {
   "cell_type": "code",
   "execution_count": null,
   "metadata": {},
   "outputs": [],
   "source": [
    "attributes = {\n",
    "    # 'min_acousticness': -1, # 0 = not acoustic, 1 = acoustic\n",
    "    # 'max_acousticness': -1, # 0 = not acoustic, 1 = acoustic\n",
    "    # 'target_acousticness': -1, # 0 = not acoustic, 1 = acoustic\n",
    "    # 'min_danceability': -1, # 0 = not danceable, 1 = danceable\n",
    "    # 'max_danceability': -1, # 0 = not danceable, 1 = danceable\n",
    "    # 'target_danceability': -1, # 0 = not danceable, 1 = danceable\n",
    "    # 'min_duration_ms': -1, # in milliseconds\n",
    "    # 'max_duration_ms': -1, # in milliseconds\n",
    "    # 'target_duration_ms': -1, # in milliseconds\n",
    "    # 'min_energy': -1, # 0 = not energetic, 1 = energetic\n",
    "    # 'max_energy': -1, # 0 = not energetic, 1 = energetic\n",
    "    # 'target_energy': -1, # 0 = not energetic, 1 = energetic\n",
    "    # 'min_instrumentalness': -1, # 0 = not instrumental, 1 = instrumental\n",
    "    # 'max_instrumentalness': -1, # 0 = not instrumental, 1 = instrumental\n",
    "    # 'target_instrumentalness': -1, # 0 = not instrumental, 1 = instrumental\n",
    "    # 'min_key': -1, # -1 = Not detected, 0 = C, 1 = C#, 2 = D, ..., 11 = B\n",
    "    # 'max_key': -1, # -1 = Not detected, 0 = C, 1 = C#, 2 = D, ..., 11 = B\n",
    "    # 'target_key': -1, # -1 = Not detected, 0 = C, 1 = C#, 2 = D, ..., 11 = B\n",
    "    # 'min_liveness': -1, # 0 = not live, 1 = live\n",
    "    # 'max_liveness': -1, # 0 = not live, 1 = live\n",
    "    # 'target_liveness': -1, # 0 = not live, 1 = live\n",
    "    # 'min_loudness': -1, # in dB, -60 = quietest, 0 = loudest\n",
    "    # 'max_loudness': -1, # in dB, -60 = quietest, 0 = loudest\n",
    "    # 'target_loudness': -1, # in dB, -60 = quietest, 0 = loudest\n",
    "    # 'min_mode': -1, # 0 = minor, 1 = major\n",
    "    # 'max_mode': -1, # 0 = minor, 1 = major\n",
    "    # 'target_mode': -1, # 0 = minor, 1 = major\n",
    "    # 'min_popularity': -1, # 0 = least popular, 100 = most popular\n",
    "    # 'max_popularity': -1, # 0 = least popular, 100 = most popular\n",
    "    # 'target_popularity': -1, # 0 = least popular, 100 = most popular\n",
    "    # 'min_speechiness': -1, # 0 = least speechy, 1 = most speechy\n",
    "    # 'max_speechiness': -1, # 0 = least speechy, 1 = most speechy\n",
    "    # 'target_speechiness': -1, # 0 = least speechy, 1 = most speechy\n",
    "    # 'min_tempo': -1, # in BPM\n",
    "    # 'max_tempo': -1, # in BPM\n",
    "    # 'target_tempo': -1, # in BPM\n",
    "    # 'min_time_signature': -1, # 3 = 3/4, 4 = 4/4, 5 = 5/4, 6 = 6/4, 7 = 7/4\n",
    "    # 'max_time_signature': -1, # 3 = 3/4, 4 = 4/4, 5 = 5/4, 6 = 6/4, 7 = 7/4\n",
    "    # 'target_time_signature': -1, # 3 = 3/4, 4 = 4/4, 5 = 5/4, 6 = 6/4, 7 = 7/4\n",
    "    # 'min_valence': -1, # 0 = sad, 1 = happy\n",
    "    # 'max_valence': -1, # 0 = sad, 1 = happy\n",
    "    # 'target_valence': -1 # 0 = sad, 1 = happy\n",
    "}\n",
    "\n",
    "# attributes['min_acousticness'] = random.uniform(0, 1)\n",
    "# attributes['max_acousticness'] = random.uniform(attributes['min_acousticness'], 1)\n",
    "# attributes['target_acousticness'] = random.uniform(attributes['min_acousticness'], attributes['max_acousticness'])\n",
    "\n",
    "# attributes['min_danceability'] = random.uniform(0, 1)\n",
    "# attributes['max_danceability'] = random.uniform(attributes['min_danceability'], 1)\n",
    "# attributes['target_danceability'] = random.uniform(attributes['min_danceability'], attributes['max_danceability'])\n",
    "\n",
    "# attributes['min_duration_ms'] = random.randint(0, 600000)\n",
    "# attributes['max_duration_ms'] = random.randint(attributes['min_duration_ms'], 600000)\n",
    "# attributes['target_duration_ms'] = random.randint(attributes['min_duration_ms'], attributes['max_duration_ms'])\n",
    "\n",
    "# attributes['min_energy'] = random.uniform(0, 1)\n",
    "# attributes['max_energy'] = random.uniform(attributes['min_energy'], 1)\n",
    "# attributes['target_energy'] = random.uniform(attributes['min_energy'], attributes['max_energy'])\n",
    "\n",
    "# attributes['min_instrumentalness'] = random.uniform(0, 1)\n",
    "# attributes['max_instrumentalness'] = random.uniform(attributes['min_instrumentalness'], 1)\n",
    "# attributes['target_instrumentalness'] = random.uniform(attributes['min_instrumentalness'], attributes['max_instrumentalness'])\n",
    "\n",
    "# attributes['min_key'] = random.randint(-1, 11)\n",
    "# attributes['max_key'] = random.randint(attributes['min_key'], 11)\n",
    "# attributes['target_key'] = random.randint(attributes['min_key'], attributes['max_key'])\n",
    "\n",
    "# attributes['min_liveness'] = random.uniform(0, 1)\n",
    "# attributes['max_liveness'] = random.uniform(attributes['min_liveness'], 1)\n",
    "# attributes['target_liveness'] = random.uniform(attributes['min_liveness'], attributes['max_liveness'])\n",
    "\n",
    "# attributes['min_loudness'] = random.uniform(-60, 0)\n",
    "# attributes['max_loudness'] = random.uniform(attributes['min_loudness'], 0)\n",
    "# attributes['target_loudness'] = random.uniform(attributes['min_loudness'], attributes['max_loudness'])\n",
    "\n",
    "# attributes['min_mode'] = random.randint(0, 1)\n",
    "# attributes['max_mode'] = random.randint(attributes['min_mode'], 1)\n",
    "# attributes['target_mode'] = random.randint(attributes['min_mode'], attributes['max_mode'])\n",
    "\n",
    "# attributes['min_popularity'] = random.randint(0, 100)\n",
    "# attributes['max_popularity'] = random.randint(attributes['min_popularity'], 100)\n",
    "# attributes['target_popularity'] = random.randint(attributes['min_popularity'], attributes['max_popularity'])\n",
    "\n",
    "# attributes['min_speechiness'] = random.uniform(0, 1)\n",
    "# attributes['max_speechiness'] = random.uniform(attributes['min_speechiness'], 1)\n",
    "# attributes['target_speechiness'] = random.uniform(attributes['min_speechiness'], attributes['max_speechiness'])\n",
    "\n",
    "# attributes['min_tempo'] = random.uniform(0, 250)\n",
    "# attributes['max_tempo'] = random.uniform(attributes['min_tempo'], 250)\n",
    "# attributes['target_tempo'] = random.uniform(attributes['min_tempo'], attributes['max_tempo'])\n",
    "\n",
    "# attributes['min_time_signature'] = random.randint(3, 7)\n",
    "# attributes['max_time_signature'] = random.randint(attributes['min_time_signature'], 7)\n",
    "# attributes['target_time_signature'] = random.randint(attributes['min_time_signature'], attributes['max_time_signature'])\n",
    "\n",
    "# attributes['min_valence'] = random.uniform(0, 1)\n",
    "# attributes['max_valence'] = random.uniform(attributes['min_valence'], 1)\n",
    "# attributes['target_valence'] = random.uniform(attributes['min_valence'], attributes['max_valence'])"
   ]
  },
  {
   "cell_type": "code",
   "execution_count": null,
   "metadata": {},
   "outputs": [],
   "source": [
    "# round values to 2 decimal places\n",
    "for key in attributes:\n",
    "    if attributes[key] != -1:\n",
    "        attributes[key] = round(attributes[key], 2)\n",
    "\n",
    "seed_artists = [artist['id'] for artist in top_artists['items']][0:2]\n",
    "seed_genres = []\n",
    "for artist in top_artists['items'][2:]:\n",
    "    for genre in artist['genres']:\n",
    "        if genre not in seed_genres:\n",
    "            seed_genres.append(genre)\n",
    "seed_genres = seed_genres[0:2]\n",
    "seed_tracks = [track['id'] for track in top_tracks['items']][0:1]\n",
    "\n",
    "print(seed_artists)\n",
    "print(seed_genres)\n",
    "print(seed_tracks)\n",
    "\n",
    "recommendations = sp.recommendations(seed_artists=seed_artists,\n",
    "                                     seed_genres=seed_genres,\n",
    "                                     seed_tracks=seed_tracks,\n",
    "                                     **attributes,\n",
    "                                     limit=100)"
   ]
  },
  {
   "attachments": {},
   "cell_type": "markdown",
   "metadata": {},
   "source": [
    "Save recommendations to a new playlist"
   ]
  },
  {
   "cell_type": "code",
   "execution_count": null,
   "metadata": {},
   "outputs": [],
   "source": [
    "playlist = sp.user_playlist_create(user=USER_ID, name='Test Random', public=False, collaborative=False, description='Test')\n",
    "sp.user_playlist_add_tracks(user=USER_ID, playlist_id=playlist['id'], tracks=[track['uri'] for track in recommendations['tracks']])"
   ]
  }
 ],
 "metadata": {
  "kernelspec": {
   "display_name": "Python 3",
   "language": "python",
   "name": "python3"
  },
  "language_info": {
   "codemirror_mode": {
    "name": "ipython",
    "version": 3
   },
   "file_extension": ".py",
   "mimetype": "text/x-python",
   "name": "python",
   "nbconvert_exporter": "python",
   "pygments_lexer": "ipython3",
   "version": "3.11.3"
  },
  "orig_nbformat": 4
 },
 "nbformat": 4,
 "nbformat_minor": 2
}
