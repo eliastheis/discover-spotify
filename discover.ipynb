{
 "cells": [
  {
   "attachments": {},
   "cell_type": "markdown",
   "metadata": {},
   "source": [
    "# Discover Spotify\n",
    "To use this file, you first need to manually execute the file 'get_token.py' and follow the instructions in the console.\n",
    "\n",
    "The resulting token was saved in 'token.txt' and is valid for one hour.\n",
    "\n",
    "If a valid token has been stored, the following code can be executed."
   ]
  },
  {
   "attachments": {},
   "cell_type": "markdown",
   "metadata": {},
   "source": [
    "# Authorize"
   ]
  },
  {
   "cell_type": "code",
   "execution_count": null,
   "metadata": {},
   "outputs": [],
   "source": [
    "import spotipy\n",
    "import json\n",
    "\n",
    "with open('token.txt', 'r') as f:\n",
    "    token = f.read()\n",
    "\n",
    "sp = spotipy.Spotify(auth=token)"
   ]
  },
  {
   "cell_type": "code",
   "execution_count": null,
   "metadata": {},
   "outputs": [],
   "source": [
    "# Get the current user\n",
    "# (This is needed to create a playlist later on)\n",
    "\n",
    "USER = sp.current_user()\n",
    "USER_ID = USER['id']"
   ]
  },
  {
   "attachments": {},
   "cell_type": "markdown",
   "metadata": {},
   "source": [
    "# Discover"
   ]
  },
  {
   "cell_type": "code",
   "execution_count": null,
   "metadata": {},
   "outputs": [],
   "source": [
    "def print_top_items(top_items, item_type):\n",
    "    print(f'\\n\\nYour top {item_type} are:')\n",
    "    for i, item in enumerate(top_items):\n",
    "        item_name = item['name']\n",
    "        print(f'{i+1}. {item_name}')"
   ]
  },
  {
   "cell_type": "code",
   "execution_count": null,
   "metadata": {},
   "outputs": [],
   "source": [
    "def save_dict_to_json(d, filename):\n",
    "    with open(filename, 'w', encoding='utf-8') as f:\n",
    "        json.dump(d, f, ensure_ascii=False, indent=4)"
   ]
  },
  {
   "attachments": {},
   "cell_type": "markdown",
   "metadata": {},
   "source": [
    "### Top artists and tracks"
   ]
  },
  {
   "cell_type": "code",
   "execution_count": null,
   "metadata": {},
   "outputs": [],
   "source": [
    "# Get the user's top artists\n",
    "top_artists = sp.current_user_top_artists(limit=50, time_range='medium_term')\n",
    "\n",
    "# Get the user's top tracks\n",
    "top_tracks = sp.current_user_top_tracks(limit=50, time_range='medium_term')\n",
    "\n",
    "# Get the user's top genres\n",
    "top_genres = top_artists['items'][0]['genres']"
   ]
  },
  {
   "cell_type": "code",
   "execution_count": null,
   "metadata": {},
   "outputs": [],
   "source": [
    "print_top_items(top_artists['items'][0:10], 'artists')\n",
    "print_top_items(top_tracks['items'][0:10], 'tracks')\n",
    "\n",
    "save_dict_to_json(top_artists, 'top_artists.json')\n",
    "save_dict_to_json(top_tracks, 'top_tracks.json')"
   ]
  },
  {
   "attachments": {},
   "cell_type": "markdown",
   "metadata": {},
   "source": [
    "### Recommendations"
   ]
  },
  {
   "attachments": {},
   "cell_type": "markdown",
   "metadata": {},
   "source": [
    "Get recommendations based on the user's top artists, genres, and tracks"
   ]
  },
  {
   "cell_type": "code",
   "execution_count": null,
   "metadata": {},
   "outputs": [],
   "source": [
    "seed_artists = [artist['id'] for artist in top_artists['items']][0:2]\n",
    "seed_genres = []\n",
    "for artist in top_artists['items']:\n",
    "    for genre in artist['genres']:\n",
    "        if genre not in seed_genres:\n",
    "            seed_genres.append(genre)\n",
    "seed_genres = seed_genres[0:2]\n",
    "seed_tracks = [track['id'] for track in top_tracks['items']][0:1]\n",
    "\n",
    "print(seed_artists)\n",
    "print(seed_genres)\n",
    "print(seed_tracks)\n",
    "\n",
    "recommendations = sp.recommendations(seed_artists=seed_artists, seed_genres=seed_genres, seed_tracks=seed_tracks, limit=100)"
   ]
  },
  {
   "attachments": {},
   "cell_type": "markdown",
   "metadata": {},
   "source": [
    "Save recommendations to a new playlist"
   ]
  },
  {
   "cell_type": "code",
   "execution_count": null,
   "metadata": {},
   "outputs": [],
   "source": [
    "playlist = sp.user_playlist_create(user=USER_ID, name='Test', public=False, collaborative=False, description='Test', )\n",
    "sp.user_playlist_add_tracks(user=USER_ID, playlist_id=playlist['id'], tracks=[track['uri'] for track in recommendations['tracks']])"
   ]
  }
 ],
 "metadata": {
  "kernelspec": {
   "display_name": "Python 3",
   "language": "python",
   "name": "python3"
  },
  "language_info": {
   "codemirror_mode": {
    "name": "ipython",
    "version": 3
   },
   "file_extension": ".py",
   "mimetype": "text/x-python",
   "name": "python",
   "nbconvert_exporter": "python",
   "pygments_lexer": "ipython3",
   "version": "3.11.3"
  },
  "orig_nbformat": 4
 },
 "nbformat": 4,
 "nbformat_minor": 2
}
