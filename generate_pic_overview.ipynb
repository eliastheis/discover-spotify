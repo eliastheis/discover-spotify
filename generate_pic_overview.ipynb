{
 "cells": [
  {
   "cell_type": "code",
   "execution_count": null,
   "metadata": {},
   "outputs": [],
   "source": [
    "CATEGORY = 'artist' # artist or track\n",
    "TIMESPAN = 'short_term' # short_term, medium_term, long_term\n",
    "LIMIT = 50 # 1-50"
   ]
  },
  {
   "cell_type": "code",
   "execution_count": null,
   "metadata": {},
   "outputs": [],
   "source": [
    "import spotipy\n",
    "\n",
    "import requests\n",
    "import math\n",
    "import os\n",
    "\n",
    "with open('token.txt', 'r') as f:\n",
    "    token = f.read()\n",
    "\n",
    "sp = spotipy.Spotify(auth=token)"
   ]
  },
  {
   "cell_type": "code",
   "execution_count": null,
   "metadata": {},
   "outputs": [],
   "source": [
    "top_items = None\n",
    "\n",
    "if CATEGORY == 'artist':\n",
    "    top_items = sp.current_user_top_artists(limit=LIMIT, time_range=TIMESPAN)\n",
    "elif CATEGORY == 'track':\n",
    "    top_items = sp.current_user_top_tracks(limit=LIMIT, time_range=TIMESPAN)"
   ]
  },
  {
   "cell_type": "code",
   "execution_count": null,
   "metadata": {},
   "outputs": [],
   "source": [
    "# extract image url and id from each item and save it to a list\n",
    "images = []\n",
    "for item in top_items['items']:\n",
    "    images.append({\n",
    "        'id': item['id'],\n",
    "        'url': item['images'][0]['url']\n",
    "    })"
   ]
  },
  {
   "cell_type": "code",
   "execution_count": null,
   "metadata": {},
   "outputs": [],
   "source": [
    "# download images\n",
    "if not os.path.exists('images'):\n",
    "    os.mkdir('images')\n",
    "\n",
    "for image in images:\n",
    "    if os.path.exists(f'images/{image[\"id\"]}.jpg'):\n",
    "        continue\n",
    "    r = requests.get(image['url'])\n",
    "    with open(f'images/{image[\"id\"]}.jpg', 'wb') as f:\n",
    "        f.write(r.content)"
   ]
  },
  {
   "cell_type": "code",
   "execution_count": null,
   "metadata": {},
   "outputs": [],
   "source": [
    "with open(f'{CATEGORY}s_{TIMESPAN}_size{LIMIT}.html', 'w') as f:\n",
    "    f.write('<html>')\n",
    "    f.write('<head>')\n",
    "\n",
    "    f.write('<style>')\n",
    "    f.write('body {background-color: #121212;}')\n",
    "    f.write('table {margin-left: auto; margin-right: auto;}')\n",
    "    f.write('table, h1 {margin-top: 30px;}')\n",
    "    f.write('table {margin-bottom: 30px;}')\n",
    "    f.write('td {padding: 5px;}')\n",
    "    f.write('img {border: 2px solid #fff;}')\n",
    "    f.write('img {border-radius: 33%;}')\n",
    "    f.write('img {transition: 0.5s;}')\n",
    "    f.write('img:hover {border-radius: 33%;}')\n",
    "    f.write('img:hover {transition: 1.0s;}')\n",
    "    f.write('img:hover {transform: scale(3);}')\n",
    "    f.write('</style>')\n",
    "\n",
    "    f.write('</head>')\n",
    "    f.write('<body>')\n",
    "\n",
    "    CATEGORY_TITLE = CATEGORY.title()\n",
    "    TIMESPAN_TITLE = TIMESPAN.replace('_', ' ').title()\n",
    "    f.write(f'<h1 style=\"text-align: center; color: white; font-family: Consolas;\">Your Top {CATEGORY_TITLE}s [{TIMESPAN_TITLE}]</h1>')\n",
    "\n",
    "    f.write('<table>')\n",
    "    length_of_line = int(math.sqrt(len(images)))\n",
    "    for x in range(0, length_of_line):\n",
    "        f.write('<tr>')\n",
    "        for y in range(0, length_of_line):\n",
    "            f.write(f'<td><a href=\"https://open.spotify.com/{CATEGORY}/{images[x*length_of_line+y][\"id\"]}\"><img src=\"images/{images[x*length_of_line+y][\"id\"]}.jpg\" width=\"100\" height=\"100\"></a></td>')\n",
    "        f.write('</tr>')\n",
    "    f.write('</table>')\n",
    "\n",
    "    f.write('</body>')\n",
    "    f.write('</html>')\n",
    "\n",
    "print(f'Created file: {CATEGORY}s_{TIMESPAN}_size{LIMIT}.html')\n"
   ]
  }
 ],
 "metadata": {
  "kernelspec": {
   "display_name": "Python 3",
   "language": "python",
   "name": "python3"
  },
  "language_info": {
   "codemirror_mode": {
    "name": "ipython",
    "version": 3
   },
   "file_extension": ".py",
   "mimetype": "text/x-python",
   "name": "python",
   "nbconvert_exporter": "python",
   "pygments_lexer": "ipython3",
   "version": "3.11.3"
  },
  "orig_nbformat": 4
 },
 "nbformat": 4,
 "nbformat_minor": 2
}
